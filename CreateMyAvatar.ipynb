{
 "cells": [
  {
   "attachments": {},
   "cell_type": "markdown",
   "metadata": {},
   "source": [
    "# Create My Avatar"
   ]
  },
  {
   "attachments": {},
   "cell_type": "markdown",
   "metadata": {},
   "source": [
    "### Create Scripts"
   ]
  },
  {
   "cell_type": "code",
   "execution_count": null,
   "metadata": {},
   "outputs": [],
   "source": [
    "%load_ext dotenv\n",
    "%dotenv"
   ]
  },
  {
   "cell_type": "code",
   "execution_count": null,
   "metadata": {},
   "outputs": [],
   "source": [
    "from create_avatar import create_index\n",
    "\n",
    "dir_path = \"C:\\\\Users\\\\JP\\\\Documents\\\\Repos\\\\DeepAvatar\\\\DeepAvatar\\\\docs\"\n",
    "#dir_path = \"docs\"\n",
    "\n",
    "create_index(dir_path)"
   ]
  },
  {
   "cell_type": "code",
   "execution_count": null,
   "metadata": {},
   "outputs": [],
   "source": [
    "from create_avatar import chat\n",
    "\n",
    "input_text = \"What do you like to do for fun?\"\n",
    "\n",
    "chat_response = chat(input_text, log_it=True)\n",
    "chat_response"
   ]
  },
  {
   "attachments": {},
   "cell_type": "markdown",
   "metadata": {},
   "source": [
    "### Check Text Similarity"
   ]
  },
  {
   "cell_type": "code",
   "execution_count": 1,
   "metadata": {},
   "outputs": [
    {
     "name": "stderr",
     "output_type": "stream",
     "text": [
      "c:\\Users\\JP\\anaconda3\\envs\\deepavatar_deploy\\Lib\\site-packages\\tqdm\\auto.py:21: TqdmWarning: IProgress not found. Please update jupyter and ipywidgets. See https://ipywidgets.readthedocs.io/en/stable/user_install.html\n",
      "  from .autonotebook import tqdm as notebook_tqdm\n"
     ]
    }
   ],
   "source": [
    "from create_avatar import ScriptFinder\n",
    "script_doc = \"C:\\\\Users\\\\JP\\\\Documents\\\\Repos\\\\DeepAvatar\\\\DeepAvatar\\\\deepavatar\\\\Scripts_embedding.csv\"\n",
    "\n",
    "sf = ScriptFinder(script_doc)\n"
   ]
  },
  {
   "cell_type": "code",
   "execution_count": null,
   "metadata": {},
   "outputs": [],
   "source": [
    "import pandas as pd\n",
    "from ast import literal_eval\n",
    "script_doc = \"C:\\\\Users\\\\JP\\\\Documents\\\\Repos\\\\DeepAvatar\\\\DeepAvatar\\\\deepavatar\\\\Scripts_embedding.csv\"\n",
    "\n",
    "df = pd.read_csv(script_doc)\n",
    "df['embedding'] = df['embedding'].apply(literal_eval)\n",
    "df"
   ]
  },
  {
   "cell_type": "code",
   "execution_count": null,
   "metadata": {},
   "outputs": [],
   "source": [
    "df.iloc[0][\"embedding\"]"
   ]
  },
  {
   "cell_type": "code",
   "execution_count": null,
   "metadata": {},
   "outputs": [],
   "source": [
    "from create_avatar import ScriptFinder\n",
    "\n",
    "script_doc = \"C:\\\\Users\\\\JP\\\\Documents\\\\Repos\\\\DeepAvatar\\\\DeepAvatar\\\\deepavatar\\\\Scripts.xlsx\"\n",
    "\n",
    "sf = ScriptFinder(script_doc)\n",
    "embedding_filename = sf.generate_embeddings_from_scripts()\n",
    "sf.df"
   ]
  },
  {
   "cell_type": "code",
   "execution_count": null,
   "metadata": {},
   "outputs": [],
   "source": [
    "sf.df.iloc[0][\"embedding\"]"
   ]
  },
  {
   "cell_type": "code",
   "execution_count": null,
   "metadata": {},
   "outputs": [],
   "source": [
    "sf.df.dtypes"
   ]
  },
  {
   "cell_type": "code",
   "execution_count": null,
   "metadata": {},
   "outputs": [],
   "source": [
    "sf.pre_process_embeddings()"
   ]
  },
  {
   "cell_type": "code",
   "execution_count": null,
   "metadata": {},
   "outputs": [],
   "source": [
    "from create_avatar import ScriptFinder\n",
    "sf = ScriptFinder('')\n",
    "sf.df = df"
   ]
  },
  {
   "cell_type": "code",
   "execution_count": 2,
   "metadata": {},
   "outputs": [
    {
     "name": "stdout",
     "output_type": "stream",
     "text": [
      "1.0 For fun, I enjoy spending time with my family, listening to audiobooks, reading tech trends, playing video games and table-top games, and exercising. I also love building new things, whether that is technology focused or not.\n",
      "0.8336001964926556 My biggest motivation is to learn and discover new techniques. I am constantly looking for ways to challenge myself and push the boundaries of what I know. I am passionate about staying up to date with the latest technology and trends, and I am always looking for ways to apply my knowledge to real-world problems. I am motivated by the idea of being able to make a difference and create something that can have a positive impact on the world.\n",
      "0.8266568797825999 My work style includes the following. I tend to get involved with several projects that interest me and allocate my time between each project throughout the day. This ensures that whenever I am facing a challenging problem and need to step away from it to gain perspective; I can switch gears to something else, which often leads to having a ‘House’ moment on the solution to the original challenging problem. I like to talk through problems and write out solutions. I believe one must fully detail out a problem before ever writing any code.\n"
     ]
    }
   ],
   "source": [
    "input_response = \"For fun, I enjoy spending time with my family, listening to audiobooks, reading tech trends, playing video games and table-top games, and exercising. I also love building new things, whether that is technology focused or not.\"\n",
    "n=3\n",
    "print_results=True\n",
    "\n",
    "results = sf.find_similar_text(input_response=input_response, n=n, print_results=print_results)"
   ]
  },
  {
   "attachments": {},
   "cell_type": "markdown",
   "metadata": {},
   "source": []
  },
  {
   "cell_type": "code",
   "execution_count": null,
   "metadata": {},
   "outputs": [],
   "source": [
    "results"
   ]
  },
  {
   "attachments": {},
   "cell_type": "markdown",
   "metadata": {},
   "source": [
    "### Create Audio File for Script"
   ]
  },
  {
   "cell_type": "code",
   "execution_count": null,
   "metadata": {},
   "outputs": [],
   "source": []
  },
  {
   "cell_type": "code",
   "execution_count": null,
   "metadata": {},
   "outputs": [],
   "source": []
  },
  {
   "attachments": {},
   "cell_type": "markdown",
   "metadata": {},
   "source": []
  },
  {
   "attachments": {},
   "cell_type": "markdown",
   "metadata": {},
   "source": [
    "### Create Avatar Video for Image & Script"
   ]
  },
  {
   "attachments": {},
   "cell_type": "markdown",
   "metadata": {},
   "source": []
  },
  {
   "cell_type": "code",
   "execution_count": null,
   "metadata": {},
   "outputs": [],
   "source": []
  },
  {
   "cell_type": "code",
   "execution_count": null,
   "metadata": {},
   "outputs": [],
   "source": []
  }
 ],
 "metadata": {
  "kernelspec": {
   "display_name": "deepavatar",
   "language": "python",
   "name": "python3"
  },
  "language_info": {
   "codemirror_mode": {
    "name": "ipython",
    "version": 3
   },
   "file_extension": ".py",
   "mimetype": "text/x-python",
   "name": "python",
   "nbconvert_exporter": "python",
   "pygments_lexer": "ipython3",
   "version": "3.11.3"
  },
  "orig_nbformat": 4
 },
 "nbformat": 4,
 "nbformat_minor": 2
}
